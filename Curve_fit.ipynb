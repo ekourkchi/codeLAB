{
 "cells": [
  {
   "cell_type": "code",
   "execution_count": 3,
   "metadata": {},
   "outputs": [],
   "source": [
    "import sys\n",
    "import time\n",
    "import os\n",
    "import subprocess\n",
    "import math\n",
    "import matplotlib.pyplot as plt\n",
    "import numpy as np\n",
    "from astropy.table import Table, Column \n",
    "from scipy.stats import linregress\n",
    "from scipy import interpolate\n",
    "from scipy import polyval, polyfit\n",
    "from scipy import odr\n",
    "import pylab as py\n",
    "from matplotlib import gridspec\n",
    "import sklearn.datasets as ds\n",
    "from sklearn.ensemble import RandomForestRegressor\n",
    "from sklearn.datasets import make_regression\n",
    "import scipy.optimize as op\n",
    "from scipy.optimize import minimize\n",
    "import random\n",
    "from astropy.table import Table, Column\n",
    "import numpy as np"
   ]
  },
  {
   "cell_type": "code",
   "execution_count": 8,
   "metadata": {},
   "outputs": [
    {
     "name": "stdout",
     "output_type": "stream",
     "text": [
      "5500 1.55\n",
      "6500 2.31\n",
      "7500 3.38\n",
      "8500 4.37\n",
      "9500 5.62\n",
      "10500 6.55\n",
      "11500 7.21\n",
      "12500 7.98\n",
      "13500 6.89\n",
      "14500 6.6\n",
      "15500 6.56\n",
      "16500 5.67\n"
     ]
    }
   ],
   "source": [
    "#   5500   1.55\n",
    "#   6500   2.31\n",
    "#   7500   3.38\n",
    "#   8500   4.37\n",
    "#   9500   5.62\n",
    "#  10500   6.55\n",
    "#  11500   7.21\n",
    "#  12500   7.98\n",
    "#  13500   6.89\n",
    "#  14500   6.60\n",
    "#  15500   6.56\n",
    "#  16500   5.67\n",
    "\n",
    "Vel = np.arange(5500,17500,1000)\n",
    "D   = np.asarray([1.55, 2.31, 3.38, 4.37, 5.62, 6.55, 7.21, 7.98, 6.89, 6.60, 6.56, 5.67])\n",
    "\n",
    "for i, d in enumerate(D):\n",
    "    print Vel[i], d"
   ]
  },
  {
   "cell_type": "code",
   "execution_count": 10,
   "metadata": {},
   "outputs": [
    {
     "name": "stdout",
     "output_type": "stream",
     "text": [
      "[-1.09537962e-07  2.85196803e-03 -1.14213942e+01]\n"
     ]
    }
   ],
   "source": [
    "v = np.linspace(45000,1800,100)"
   ]
  },
  {
   "cell_type": "markdown",
   "metadata": {},
   "source": [
    "### $2^{nd}$ Degree Polynomial\n",
    "\n",
    "\\begin{align}\n",
    "D_{damp}-D_{YH} & = C_2 V^2 + C_1  V + C_0\n",
    "\\end{align}"
   ]
  },
  {
   "cell_type": "code",
   "execution_count": 34,
   "metadata": {},
   "outputs": [
    {
     "name": "stdout",
     "output_type": "stream",
     "text": [
      "C2 =  -1.0953796203796217e-07\n",
      "C1 =  0.002851968031968035\n",
      "C0 =  -11.421394230769247\n"
     ]
    },
    {
     "data": {
      "image/png": "[encoded data removed]",
      "text/plain": [
       "<Figure size 432x288 with 1 Axes>"
      ]
     },
     "metadata": {},
     "output_type": "display_data"
    }
   ],
   "source": [
    "c = np.polyfit(Vel, D, 2)\n",
    "plt.plot(v,c[0]*v**2+c[1]*v+c[2], 'r-')\n",
    "plt.plot(Vel,D, 'ko')\n",
    "plt.xlim(5000,17500)\n",
    "plt.ylim(-5,10)\n",
    "\n",
    "print 'C2 = ', c[0]\n",
    "print 'C1 = ', c[1]\n",
    "print 'C0 = ', c[2]"
   ]
  },
  {
   "cell_type": "markdown",
   "metadata": {},
   "source": [
    "### $3^{rd}$ Degree Polynomial\n",
    "\n",
    "\\begin{align}\n",
    "D_{damp}-D_{YH} & = C_3 V^3 + C_2 V^2 + C_1  V + C_0\n",
    "\\end{align}"
   ]
  },
  {
   "cell_type": "code",
   "execution_count": 36,
   "metadata": {},
   "outputs": [
    {
     "name": "stdout",
     "output_type": "stream",
     "text": [
      "C3 =  -7.364672364672449e-12\n",
      "C2 =  1.3349622599622982e-07\n",
      "C1 =  0.0003350912513411972\n",
      "C0 =  -3.34050747863225\n"
     ]
    },
    {
     "data": {
      "image/png": "[encoded data removed]",
      "text/plain": [
       "<Figure size 432x288 with 1 Axes>"
      ]
     },
     "metadata": {},
     "output_type": "display_data"
    }
   ],
   "source": [
    "c = np.polyfit(Vel, D, 3)\n",
    "plt.plot(v,c[0]*v**3+c[1]*v**2+c[2]*v+c[3], 'g-')\n",
    "plt.plot(Vel,D, 'ko')\n",
    "plt.xlim(5000,17500)\n",
    "plt.ylim(-5,10)\n",
    "\n",
    "print 'C3 = ', c[0]\n",
    "print 'C2 = ', c[1]\n",
    "print 'C1 = ', c[2]\n",
    "print 'C0 = ', c[3]"
   ]
  },
  {
   "cell_type": "markdown",
   "metadata": {},
   "source": [
    "### $4^{rd}$ Degree Polynomial\n",
    "\n",
    "\\begin{align}\n",
    "D_{damp}-D_{YH} & = C_4 V^4 + C_3 V^3 + C_2 V^2 + C_1  V + C_0\n",
    "\\end{align}"
   ]
  },
  {
   "cell_type": "code",
   "execution_count": 37,
   "metadata": {},
   "outputs": [
    {
     "name": "stdout",
     "output_type": "stream",
     "text": [
      "C4 =  2.605259324009149e-15\n",
      "C3 =  -1.2199608262107555e-10\n",
      "C2 =  1.946942805458335e-06\n",
      "C1 =  -0.011819932214775447\n",
      "C0 =  25.637954811030067\n"
     ]
    },
    {
     "data": {
      "image/png": "[encoded data removed]",
      "text/plain": [
       "<Figure size 432x288 with 1 Axes>"
      ]
     },
     "metadata": {},
     "output_type": "display_data"
    }
   ],
   "source": [
    "c = np.polyfit(Vel, D, 4)\n",
    "plt.plot(v,c[0]*v**4+c[1]*v**3+c[2]*v**2+c[3]*v+c[4], 'b-')\n",
    "plt.plot(Vel,D, 'ko')\n",
    "plt.xlim(5000,17500)\n",
    "plt.ylim(-5,10)\n",
    "\n",
    "print 'C4 = ', c[0]\n",
    "print 'C3 = ', c[1]\n",
    "print 'C2 = ', c[2]\n",
    "print 'C1 = ', c[3]\n",
    "print 'C0 = ', c[4]"
   ]
  },
  {
   "cell_type": "markdown",
   "metadata": {},
   "source": [
    "### Adding a few points in the beginning and end of the sequence to get the marginal slopes right\n",
    " - Red open circles were just used in the fitting process.\n",
    " - Black filled points are the original data points"
   ]
  },
  {
   "cell_type": "code",
   "execution_count": 89,
   "metadata": {},
   "outputs": [
    {
     "name": "stdout",
     "output_type": "stream",
     "text": [
      "C4 =  2.0336798685892477e-15\n",
      "C3 =  -9.449363511758727e-11\n",
      "C2 =  1.4725744438174861e-06\n",
      "C1 =  -0.008371537089740528\n",
      "C0 =  16.805109100897432\n"
     ]
    },
    {
     "data": {
      "image/png": "[encoded data removed]",
      "text/plain": [
       "<Figure size 432x288 with 1 Axes>"
      ]
     },
     "metadata": {},
     "output_type": "display_data"
    }
   ],
   "source": [
    "Vel = np.arange(5500,17500,1000)\n",
    "D   = np.asarray([1.55, 2.31, 3.38, 4.37, 5.62, 6.55, 7.21, 7.98, 6.89, 6.60, 6.56, 5.67])\n",
    "\n",
    "m = 1.55/5500\n",
    "V0 = np.linspace(4000,5500,3, endpoint=False)\n",
    "D0 = m*V0\n",
    "\n",
    "Vel_ = np.concatenate((V0,Vel))\n",
    "D_   = np.concatenate((D0,D))\n",
    "\n",
    "V1 = np.linspace(17000,18500,2, endpoint=False)\n",
    "D1 = 5.67*np.ones(2)\n",
    "\n",
    "Vel_ = np.concatenate((Vel_,V1))\n",
    "D_   = np.concatenate((D_,D1))\n",
    "\n",
    "plt.plot(Vel,D, 'ko')\n",
    "\n",
    "\n",
    "plt.ylim(-5,15)\n",
    "plt.xlim(2500,20000)\n",
    "c = np.polyfit(Vel_, D_, 4)\n",
    "plt.plot(v,c[0]*v**4+c[1]*v**3+c[2]*v**2+c[3]*v+c[4], 'b-')\n",
    "\n",
    "plt.scatter(V0,D0, s=30, facecolors='none', edgecolors='r')\n",
    "plt.scatter(V1,D1, s=30, facecolors='none', edgecolors='r')\n",
    "# for i, d in enumerate(D):\n",
    "#     print Vel[i], d\n",
    "\n",
    "print 'C4 = ', c[0]\n",
    "print 'C3 = ', c[1]\n",
    "print 'C2 = ', c[2]\n",
    "print 'C1 = ', c[3]\n",
    "print 'C0 = ', c[4]"
   ]
  },
  {
   "cell_type": "code",
   "execution_count": null,
   "metadata": {},
   "outputs": [],
   "source": []
  }
 ],
 "metadata": {
  "kernelspec": {
   "display_name": "Python 2",
   "language": "python",
   "name": "python2"
  },
  "language_info": {
   "codemirror_mode": {
    "name": "ipython",
    "version": 2
   },
   "file_extension": ".py",
   "mimetype": "text/x-python",
   "name": "python",
   "nbconvert_exporter": "python",
   "pygments_lexer": "ipython2",
   "version": "2.7.15"
  }
 },
 "nbformat": 4,
 "nbformat_minor": 2
}
